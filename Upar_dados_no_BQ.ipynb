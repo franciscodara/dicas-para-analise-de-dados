{
  "nbformat": 4,
  "nbformat_minor": 0,
  "metadata": {
    "colab": {
      "provenance": [],
      "authorship_tag": "ABX9TyMtJD/klqBg031oD4vHWOm0",
      "include_colab_link": true
    },
    "kernelspec": {
      "name": "python3",
      "display_name": "Python 3"
    },
    "language_info": {
      "name": "python"
    }
  },
  "cells": [
    {
      "cell_type": "markdown",
      "metadata": {
        "id": "view-in-github",
        "colab_type": "text"
      },
      "source": [
        "<a href=\"https://colab.research.google.com/github/franciscodara/dicas-para-analise-de-dados/blob/main/Upar_dados_no_BQ.ipynb\" target=\"_parent\"><img src=\"https://colab.research.google.com/assets/colab-badge.svg\" alt=\"Open In Colab\"/></a>"
      ]
    },
    {
      "cell_type": "code",
      "execution_count": 1,
      "metadata": {
        "colab": {
          "base_uri": "https://localhost:8080/"
        },
        "id": "it3znFbcuLo8",
        "outputId": "b8d4b78a-6b4f-4851-b626-22634721b956"
      },
      "outputs": [
        {
          "output_type": "stream",
          "name": "stdout",
          "text": [
            "\n"
          ]
        }
      ],
      "source": [
        "# Instalação das bibliotecas necessárias\n",
        "!pip install google-cloud-bigquery pandas pandas-gbq > /dev/null 2>&1 && echo"
      ]
    },
    {
      "cell_type": "code",
      "source": [
        "# Importação de bibliotecas necessárias\n",
        "import pandas as pd\n",
        "import io\n",
        "from google.colab import files\n",
        "from google.colab import auth\n",
        "from pandas_gbq import to_gbq\n",
        "from google.cloud import bigquery"
      ],
      "metadata": {
        "id": "BpeFupXjuOk8"
      },
      "execution_count": 2,
      "outputs": []
    },
    {
      "cell_type": "code",
      "source": [
        "# Autenticação no Google Colab\n",
        "auth.authenticate_user()\n",
        "print(\"Autenticação realizada com sucesso!\")"
      ],
      "metadata": {
        "colab": {
          "base_uri": "https://localhost:8080/"
        },
        "id": "ObaL8C4XuRpZ",
        "outputId": "7dd3589d-21aa-4aa0-8bca-49d99ed15072"
      },
      "execution_count": 3,
      "outputs": [
        {
          "output_type": "stream",
          "name": "stdout",
          "text": [
            "Autenticação realizada com sucesso!\n"
          ]
        }
      ]
    },
    {
      "cell_type": "code",
      "source": [
        "# Upload de arquivo CSV\n",
        "uploaded = files.upload()\n",
        "\n",
        "# Verifica se o arquivo foi enviado\n",
        "if not uploaded:\n",
        "    raise ValueError(\"Nenhum arquivo foi enviado. Faça o upload de um arquivo CSV.\")\n",
        "\n",
        "# Obtém o nome do arquivo carregado\n",
        "filename = list(uploaded.keys())[0]\n",
        "\n",
        "# Validação e leitura do CSV\n",
        "if filename.lower().endswith('.csv'):\n",
        "    try:\n",
        "        df = pd.read_csv(io.BytesIO(uploaded[filename]))\n",
        "        print(\"Arquivo carregado e lido com sucesso:\")\n",
        "        print(df.head())\n",
        "    except Exception as e:\n",
        "        raise ValueError(f\"Erro ao ler o arquivo CSV: {e}\")\n",
        "else:\n",
        "    raise ValueError(\"O arquivo enviado não é um CSV. Envie um arquivo com a extensão .csv.\")\n"
      ],
      "metadata": {
        "colab": {
          "base_uri": "https://localhost:8080/",
          "height": 449
        },
        "id": "cviWfkkauULZ",
        "outputId": "803443d4-62de-4a51-ed7d-49bf8183564f"
      },
      "execution_count": 4,
      "outputs": [
        {
          "output_type": "display_data",
          "data": {
            "text/plain": [
              "<IPython.core.display.HTML object>"
            ],
            "text/html": [
              "\n",
              "     <input type=\"file\" id=\"files-2d0d4f89-3149-4ff8-90b6-22b139f97ef3\" name=\"files[]\" multiple disabled\n",
              "        style=\"border:none\" />\n",
              "     <output id=\"result-2d0d4f89-3149-4ff8-90b6-22b139f97ef3\">\n",
              "      Upload widget is only available when the cell has been executed in the\n",
              "      current browser session. Please rerun this cell to enable.\n",
              "      </output>\n",
              "      <script>// Copyright 2017 Google LLC\n",
              "//\n",
              "// Licensed under the Apache License, Version 2.0 (the \"License\");\n",
              "// you may not use this file except in compliance with the License.\n",
              "// You may obtain a copy of the License at\n",
              "//\n",
              "//      http://www.apache.org/licenses/LICENSE-2.0\n",
              "//\n",
              "// Unless required by applicable law or agreed to in writing, software\n",
              "// distributed under the License is distributed on an \"AS IS\" BASIS,\n",
              "// WITHOUT WARRANTIES OR CONDITIONS OF ANY KIND, either express or implied.\n",
              "// See the License for the specific language governing permissions and\n",
              "// limitations under the License.\n",
              "\n",
              "/**\n",
              " * @fileoverview Helpers for google.colab Python module.\n",
              " */\n",
              "(function(scope) {\n",
              "function span(text, styleAttributes = {}) {\n",
              "  const element = document.createElement('span');\n",
              "  element.textContent = text;\n",
              "  for (const key of Object.keys(styleAttributes)) {\n",
              "    element.style[key] = styleAttributes[key];\n",
              "  }\n",
              "  return element;\n",
              "}\n",
              "\n",
              "// Max number of bytes which will be uploaded at a time.\n",
              "const MAX_PAYLOAD_SIZE = 100 * 1024;\n",
              "\n",
              "function _uploadFiles(inputId, outputId) {\n",
              "  const steps = uploadFilesStep(inputId, outputId);\n",
              "  const outputElement = document.getElementById(outputId);\n",
              "  // Cache steps on the outputElement to make it available for the next call\n",
              "  // to uploadFilesContinue from Python.\n",
              "  outputElement.steps = steps;\n",
              "\n",
              "  return _uploadFilesContinue(outputId);\n",
              "}\n",
              "\n",
              "// This is roughly an async generator (not supported in the browser yet),\n",
              "// where there are multiple asynchronous steps and the Python side is going\n",
              "// to poll for completion of each step.\n",
              "// This uses a Promise to block the python side on completion of each step,\n",
              "// then passes the result of the previous step as the input to the next step.\n",
              "function _uploadFilesContinue(outputId) {\n",
              "  const outputElement = document.getElementById(outputId);\n",
              "  const steps = outputElement.steps;\n",
              "\n",
              "  const next = steps.next(outputElement.lastPromiseValue);\n",
              "  return Promise.resolve(next.value.promise).then((value) => {\n",
              "    // Cache the last promise value to make it available to the next\n",
              "    // step of the generator.\n",
              "    outputElement.lastPromiseValue = value;\n",
              "    return next.value.response;\n",
              "  });\n",
              "}\n",
              "\n",
              "/**\n",
              " * Generator function which is called between each async step of the upload\n",
              " * process.\n",
              " * @param {string} inputId Element ID of the input file picker element.\n",
              " * @param {string} outputId Element ID of the output display.\n",
              " * @return {!Iterable<!Object>} Iterable of next steps.\n",
              " */\n",
              "function* uploadFilesStep(inputId, outputId) {\n",
              "  const inputElement = document.getElementById(inputId);\n",
              "  inputElement.disabled = false;\n",
              "\n",
              "  const outputElement = document.getElementById(outputId);\n",
              "  outputElement.innerHTML = '';\n",
              "\n",
              "  const pickedPromise = new Promise((resolve) => {\n",
              "    inputElement.addEventListener('change', (e) => {\n",
              "      resolve(e.target.files);\n",
              "    });\n",
              "  });\n",
              "\n",
              "  const cancel = document.createElement('button');\n",
              "  inputElement.parentElement.appendChild(cancel);\n",
              "  cancel.textContent = 'Cancel upload';\n",
              "  const cancelPromise = new Promise((resolve) => {\n",
              "    cancel.onclick = () => {\n",
              "      resolve(null);\n",
              "    };\n",
              "  });\n",
              "\n",
              "  // Wait for the user to pick the files.\n",
              "  const files = yield {\n",
              "    promise: Promise.race([pickedPromise, cancelPromise]),\n",
              "    response: {\n",
              "      action: 'starting',\n",
              "    }\n",
              "  };\n",
              "\n",
              "  cancel.remove();\n",
              "\n",
              "  // Disable the input element since further picks are not allowed.\n",
              "  inputElement.disabled = true;\n",
              "\n",
              "  if (!files) {\n",
              "    return {\n",
              "      response: {\n",
              "        action: 'complete',\n",
              "      }\n",
              "    };\n",
              "  }\n",
              "\n",
              "  for (const file of files) {\n",
              "    const li = document.createElement('li');\n",
              "    li.append(span(file.name, {fontWeight: 'bold'}));\n",
              "    li.append(span(\n",
              "        `(${file.type || 'n/a'}) - ${file.size} bytes, ` +\n",
              "        `last modified: ${\n",
              "            file.lastModifiedDate ? file.lastModifiedDate.toLocaleDateString() :\n",
              "                                    'n/a'} - `));\n",
              "    const percent = span('0% done');\n",
              "    li.appendChild(percent);\n",
              "\n",
              "    outputElement.appendChild(li);\n",
              "\n",
              "    const fileDataPromise = new Promise((resolve) => {\n",
              "      const reader = new FileReader();\n",
              "      reader.onload = (e) => {\n",
              "        resolve(e.target.result);\n",
              "      };\n",
              "      reader.readAsArrayBuffer(file);\n",
              "    });\n",
              "    // Wait for the data to be ready.\n",
              "    let fileData = yield {\n",
              "      promise: fileDataPromise,\n",
              "      response: {\n",
              "        action: 'continue',\n",
              "      }\n",
              "    };\n",
              "\n",
              "    // Use a chunked sending to avoid message size limits. See b/62115660.\n",
              "    let position = 0;\n",
              "    do {\n",
              "      const length = Math.min(fileData.byteLength - position, MAX_PAYLOAD_SIZE);\n",
              "      const chunk = new Uint8Array(fileData, position, length);\n",
              "      position += length;\n",
              "\n",
              "      const base64 = btoa(String.fromCharCode.apply(null, chunk));\n",
              "      yield {\n",
              "        response: {\n",
              "          action: 'append',\n",
              "          file: file.name,\n",
              "          data: base64,\n",
              "        },\n",
              "      };\n",
              "\n",
              "      let percentDone = fileData.byteLength === 0 ?\n",
              "          100 :\n",
              "          Math.round((position / fileData.byteLength) * 100);\n",
              "      percent.textContent = `${percentDone}% done`;\n",
              "\n",
              "    } while (position < fileData.byteLength);\n",
              "  }\n",
              "\n",
              "  // All done.\n",
              "  yield {\n",
              "    response: {\n",
              "      action: 'complete',\n",
              "    }\n",
              "  };\n",
              "}\n",
              "\n",
              "scope.google = scope.google || {};\n",
              "scope.google.colab = scope.google.colab || {};\n",
              "scope.google.colab._files = {\n",
              "  _uploadFiles,\n",
              "  _uploadFilesContinue,\n",
              "};\n",
              "})(self);\n",
              "</script> "
            ]
          },
          "metadata": {}
        },
        {
          "output_type": "stream",
          "name": "stdout",
          "text": [
            "Saving Clientes.csv to Clientes.csv\n",
            "Arquivo carregado e lido com sucesso:\n",
            "   id           created_at first_name last_name                email  \\\n",
            "0   0  2017-11-01 14:45:41      Marta     Jesus                  NaN   \n",
            "1   1  2017-10-16 00:50:39      Luana   Almeida                  NaN   \n",
            "2   2  2018-06-16 17:51:29      Frida    Mendes  frida@meu_email.com   \n",
            "3   3  2018-01-17 03:02:58    Daniela   Avelino  daniela@exemplo.com   \n",
            "4   4  2018-08-06 07:24:16    Romário  Teixeira                  NaN   \n",
            "\n",
            "    cell_phone country              state  \\\n",
            "0  9 9102-7834  Brasil               Acre   \n",
            "1  9 7328-8718  Brasil  Rio Grande do Sul   \n",
            "2  9 5906-7552  Brasil          São Paulo   \n",
            "3  9 4642-9486  Brasil        Mato Grosso   \n",
            "4  9 3093-6522  Brasil              Bahia   \n",
            "\n",
            "                                   street  number  additionals  \n",
            "0                                     NaN     NaN  Conjunto 16  \n",
            "1  Avenida 56 do Estado Rio Grande do Sul   989.0  Conjunto 17  \n",
            "2          Avenida 59 do Estado São Paulo   534.0          NaN  \n",
            "3                                     NaN     NaN          NaN  \n",
            "4                Praça 56 do Estado Bahia   191.0      Apto 12  \n"
          ]
        }
      ]
    },
    {
      "cell_type": "code",
      "source": [
        "# Configuração do projeto e tabela do BigQuery\n",
        "project_id = \"curso-etl-com-python\"  # Substitua pelo ID do seu projeto\n",
        "dataset_table = \"curso_bq_python.clientes\"  # Nome do dataset e tabela\n",
        "\n",
        "# Envio dos dados para o BigQuery\n",
        "try:\n",
        "    to_gbq(\n",
        "        dataframe=df,\n",
        "        destination_table=dataset_table,\n",
        "        project_id=project_id,\n",
        "        if_exists=\"append\"\n",
        "    )\n",
        "    print(f\"Dados enviados com sucesso para {dataset_table} no BigQuery!\")\n",
        "except Exception as e:\n",
        "    raise ValueError(f\"Erro ao enviar os dados para o BigQuery: {e}\")\n"
      ],
      "metadata": {
        "colab": {
          "base_uri": "https://localhost:8080/"
        },
        "id": "YLP_DAC-uYI5",
        "outputId": "2f2182b4-41a1-4dd9-af19-f0346ac53528"
      },
      "execution_count": 5,
      "outputs": [
        {
          "output_type": "stream",
          "name": "stderr",
          "text": [
            "100%|██████████| 1/1 [00:00<00:00, 603.67it/s]"
          ]
        },
        {
          "output_type": "stream",
          "name": "stdout",
          "text": [
            "Dados enviados com sucesso para curso_bq_python.clientes no BigQuery!\n"
          ]
        },
        {
          "output_type": "stream",
          "name": "stderr",
          "text": [
            "\n"
          ]
        }
      ]
    }
  ]
}